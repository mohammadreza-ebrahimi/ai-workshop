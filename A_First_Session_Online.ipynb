{
 "cells": [
  {
   "cell_type": "code",
   "execution_count": 1,
   "id": "ab4db577",
   "metadata": {},
   "outputs": [],
   "source": [
    "import numpy as np\n",
    "import matplotlib.pyplot as plt\n",
    "from time import time"
   ]
  },
  {
   "cell_type": "markdown",
   "id": "3237b2f3",
   "metadata": {},
   "source": [
    "### Arrays"
   ]
  },
  {
   "cell_type": "code",
   "execution_count": 28,
   "id": "4b587ffc",
   "metadata": {},
   "outputs": [
    {
     "data": {
      "text/plain": [
       "array([[1, 2],\n",
       "       [3, 4],\n",
       "       [5, 6]])"
      ]
     },
     "execution_count": 28,
     "metadata": {},
     "output_type": "execute_result"
    }
   ],
   "source": [
    "# Build\n",
    "a = np.array([1, 2, 3, 4, 5, 6])\n",
    "\n",
    "# Read\n",
    "# a[start:stop:step]\n",
    "a[0] # = 1\n",
    "a[-1] # = 5\n",
    "a[1:-1] # = array([2, 3, 4, 5])\n",
    "a[::2] # = array([1, 3, 5])\n",
    "a[2::2] # = array([3, 5])\n",
    "a[::-1] # = array([6, 5, 4, 3, 2, 1])\n",
    "# Reshape\n",
    "a.reshape((3,2))"
   ]
  },
  {
   "cell_type": "code",
   "execution_count": 9,
   "id": "81cdc1df",
   "metadata": {},
   "outputs": [
    {
     "data": {
      "text/plain": [
       "array([[[0, 0, 0],\n",
       "        [0, 0, 0],\n",
       "        [0, 0, 0]],\n",
       "\n",
       "       [[0, 0, 0],\n",
       "        [0, 0, 0],\n",
       "        [0, 0, 0]]])"
      ]
     },
     "execution_count": 9,
     "metadata": {},
     "output_type": "execute_result"
    }
   ],
   "source": [
    "np.zeros(shape=(2,3,3), dtype=int)"
   ]
  },
  {
   "cell_type": "code",
   "execution_count": 11,
   "id": "7442cf7c",
   "metadata": {},
   "outputs": [
    {
     "data": {
      "text/plain": [
       "array([[[1., 1., 1., 1., 1., 1.],\n",
       "        [1., 1., 1., 1., 1., 1.]],\n",
       "\n",
       "       [[1., 1., 1., 1., 1., 1.],\n",
       "        [1., 1., 1., 1., 1., 1.]]])"
      ]
     },
     "execution_count": 11,
     "metadata": {},
     "output_type": "execute_result"
    }
   ],
   "source": [
    "np.ones(shape=(2,2,6))"
   ]
  },
  {
   "cell_type": "code",
   "execution_count": 9,
   "id": "a46178a5",
   "metadata": {},
   "outputs": [
    {
     "data": {
      "text/plain": [
       "array([[2.6, 2.6],\n",
       "       [2.6, 2.6]])"
      ]
     },
     "execution_count": 9,
     "metadata": {},
     "output_type": "execute_result"
    }
   ],
   "source": [
    "np.full(shape=(2,2), fill_value=2.6)"
   ]
  },
  {
   "cell_type": "code",
   "execution_count": 12,
   "id": "89dcecfc",
   "metadata": {},
   "outputs": [
    {
     "data": {
      "text/plain": [
       "array([[1., 1., 1.],\n",
       "       [1., 1., 1.]])"
      ]
     },
     "execution_count": 12,
     "metadata": {},
     "output_type": "execute_result"
    }
   ],
   "source": [
    "z = np.empty(shape=(2,3))  # It will make z to be some numbers. so you can fill it with what you want later\n",
    "z"
   ]
  },
  {
   "cell_type": "code",
   "execution_count": 14,
   "id": "174a641c",
   "metadata": {},
   "outputs": [
    {
     "data": {
      "text/plain": [
       "array([[5.6, 5.6, 5.6],\n",
       "       [5.6, 5.6, 5.6]])"
      ]
     },
     "execution_count": 14,
     "metadata": {},
     "output_type": "execute_result"
    }
   ],
   "source": [
    "x = np.full_like(z, 5.6)\n",
    "x"
   ]
  },
  {
   "cell_type": "code",
   "execution_count": 15,
   "id": "5263b1dc",
   "metadata": {},
   "outputs": [
    {
     "data": {
      "text/plain": [
       "array([[0., 0., 0.],\n",
       "       [0., 0., 0.]])"
      ]
     },
     "execution_count": 15,
     "metadata": {},
     "output_type": "execute_result"
    }
   ],
   "source": [
    "np.zeros_like(x)"
   ]
  },
  {
   "cell_type": "code",
   "execution_count": 16,
   "id": "da403530",
   "metadata": {},
   "outputs": [
    {
     "data": {
      "text/plain": [
       "array([[1., 1., 1.],\n",
       "       [1., 1., 1.]])"
      ]
     },
     "execution_count": 16,
     "metadata": {},
     "output_type": "execute_result"
    }
   ],
   "source": [
    "np.ones_like(x)"
   ]
  },
  {
   "cell_type": "markdown",
   "id": "a9f0b4af",
   "metadata": {},
   "source": [
    "### Constants"
   ]
  },
  {
   "cell_type": "code",
   "execution_count": 20,
   "id": "3d8713c4",
   "metadata": {},
   "outputs": [
    {
     "name": "stdout",
     "output_type": "stream",
     "text": [
      "3.141592653589793\n",
      "2.718281828459045\n",
      "2.718281828459045\n"
     ]
    }
   ],
   "source": [
    "pi = np.pi\n",
    "print(pi)\n",
    "\n",
    "print(np.e)\n",
    "print(np.exp(1))"
   ]
  },
  {
   "cell_type": "code",
   "execution_count": 18,
   "id": "8c406bc9",
   "metadata": {},
   "outputs": [
    {
     "data": {
      "text/plain": [
       "inf"
      ]
     },
     "execution_count": 18,
     "metadata": {},
     "output_type": "execute_result"
    }
   ],
   "source": [
    "np.inf"
   ]
  },
  {
   "cell_type": "code",
   "execution_count": 21,
   "id": "2228f97c",
   "metadata": {},
   "outputs": [
    {
     "data": {
      "text/plain": [
       "-inf"
      ]
     },
     "execution_count": 21,
     "metadata": {},
     "output_type": "execute_result"
    }
   ],
   "source": [
    "np.NINF"
   ]
  },
  {
   "cell_type": "code",
   "execution_count": 22,
   "id": "e0b1a308",
   "metadata": {},
   "outputs": [
    {
     "data": {
      "text/plain": [
       "0.0"
      ]
     },
     "execution_count": 22,
     "metadata": {},
     "output_type": "execute_result"
    }
   ],
   "source": [
    "np.PZERO  # approach zero from right"
   ]
  },
  {
   "cell_type": "code",
   "execution_count": 23,
   "id": "859dd52b",
   "metadata": {},
   "outputs": [
    {
     "data": {
      "text/plain": [
       "-0.0"
      ]
     },
     "execution_count": 23,
     "metadata": {},
     "output_type": "execute_result"
    }
   ],
   "source": [
    "np.NZERO  # # approach zero from left"
   ]
  },
  {
   "cell_type": "code",
   "execution_count": 25,
   "id": "e2ddac5e",
   "metadata": {},
   "outputs": [
    {
     "name": "stderr",
     "output_type": "stream",
     "text": [
      "C:\\Users\\Pouya\\AppData\\Local\\Temp/ipykernel_1504/751597058.py:1: RuntimeWarning: divide by zero encountered in true_divide\n",
      "  np.array([1])/np.PZERO\n"
     ]
    },
    {
     "data": {
      "text/plain": [
       "array([inf])"
      ]
     },
     "execution_count": 25,
     "metadata": {},
     "output_type": "execute_result"
    }
   ],
   "source": [
    "np.array([1])/np.PZERO"
   ]
  },
  {
   "cell_type": "code",
   "execution_count": 27,
   "id": "cec81315",
   "metadata": {},
   "outputs": [
    {
     "name": "stderr",
     "output_type": "stream",
     "text": [
      "C:\\Users\\Pouya\\AppData\\Local\\Temp/ipykernel_1504/1015408938.py:3: RuntimeWarning: divide by zero encountered in log\n",
      "  np.log([-1, 0, np.inf])\n",
      "C:\\Users\\Pouya\\AppData\\Local\\Temp/ipykernel_1504/1015408938.py:3: RuntimeWarning: invalid value encountered in log\n",
      "  np.log([-1, 0, np.inf])\n"
     ]
    },
    {
     "data": {
      "text/plain": [
       "array([ nan, -inf,  inf])"
      ]
     },
     "execution_count": 27,
     "metadata": {},
     "output_type": "execute_result"
    }
   ],
   "source": [
    "np.log  # same ln\n",
    "np.log10  # log10\n",
    "np.log([-1, 0, np.inf])"
   ]
  },
  {
   "cell_type": "code",
   "execution_count": 28,
   "id": "9089f792",
   "metadata": {},
   "outputs": [
    {
     "name": "stderr",
     "output_type": "stream",
     "text": [
      "C:\\Users\\Pouya\\AppData\\Local\\Temp/ipykernel_1504/3102771234.py:1: RuntimeWarning: divide by zero encountered in log\n",
      "  np.isnan(np.log([-1, 0, np.inf]))\n",
      "C:\\Users\\Pouya\\AppData\\Local\\Temp/ipykernel_1504/3102771234.py:1: RuntimeWarning: invalid value encountered in log\n",
      "  np.isnan(np.log([-1, 0, np.inf]))\n"
     ]
    },
    {
     "data": {
      "text/plain": [
       "array([ True, False, False])"
      ]
     },
     "execution_count": 28,
     "metadata": {},
     "output_type": "execute_result"
    }
   ],
   "source": [
    "np.isnan(np.log([-1, 0, np.inf]))"
   ]
  },
  {
   "cell_type": "code",
   "execution_count": 29,
   "id": "3902fd8f",
   "metadata": {},
   "outputs": [
    {
     "name": "stderr",
     "output_type": "stream",
     "text": [
      "C:\\Users\\Pouya\\AppData\\Local\\Temp/ipykernel_1504/2724965854.py:1: RuntimeWarning: divide by zero encountered in log\n",
      "  np.isfinite(np.log([-1, 0, np.inf]))\n",
      "C:\\Users\\Pouya\\AppData\\Local\\Temp/ipykernel_1504/2724965854.py:1: RuntimeWarning: invalid value encountered in log\n",
      "  np.isfinite(np.log([-1, 0, np.inf]))\n"
     ]
    },
    {
     "data": {
      "text/plain": [
       "array([False, False, False])"
      ]
     },
     "execution_count": 29,
     "metadata": {},
     "output_type": "execute_result"
    }
   ],
   "source": [
    "np.isfinite(np.log([-1, 0, np.inf]))"
   ]
  },
  {
   "cell_type": "code",
   "execution_count": 30,
   "id": "63910def",
   "metadata": {},
   "outputs": [
    {
     "name": "stderr",
     "output_type": "stream",
     "text": [
      "C:\\Users\\Pouya\\AppData\\Local\\Temp/ipykernel_1504/2909521069.py:1: RuntimeWarning: divide by zero encountered in log\n",
      "  np.isinf(np.log([-1, 0, np.inf]))\n",
      "C:\\Users\\Pouya\\AppData\\Local\\Temp/ipykernel_1504/2909521069.py:1: RuntimeWarning: invalid value encountered in log\n",
      "  np.isinf(np.log([-1, 0, np.inf]))\n"
     ]
    },
    {
     "data": {
      "text/plain": [
       "array([False,  True,  True])"
      ]
     },
     "execution_count": 30,
     "metadata": {},
     "output_type": "execute_result"
    }
   ],
   "source": [
    "np.isinf(np.log([-1, 0, np.inf]))"
   ]
  },
  {
   "cell_type": "markdown",
   "id": "8793dfa0",
   "metadata": {},
   "source": [
    "### Coordinations"
   ]
  },
  {
   "cell_type": "code",
   "execution_count": 34,
   "id": "4f8c031a",
   "metadata": {},
   "outputs": [
    {
     "name": "stdout",
     "output_type": "stream",
     "text": [
      "1-  [0.  0.5 1.  1.5 2.  2.5 3.  3.5 4.  4.5 5.  5.5 6.  6.5 7.  7.5 8.  8.5\n",
      " 9.  9.5]\n",
      "2-  [ 0.  5. 10. 15. 20. 25. 30. 35. 40. 45. 50.]\n",
      "3-  [1.e+01 1.e+02 1.e+03 1.e+04 1.e+05]\n",
      "4-  [[-5. -4. -3. -2. -1.  0.  1.  2.  3.  4.  5.]\n",
      " [-5. -4. -3. -2. -1.  0.  1.  2.  3.  4.  5.]\n",
      " [-5. -4. -3. -2. -1.  0.  1.  2.  3.  4.  5.]\n",
      " [-5. -4. -3. -2. -1.  0.  1.  2.  3.  4.  5.]\n",
      " [-5. -4. -3. -2. -1.  0.  1.  2.  3.  4.  5.]\n",
      " [-5. -4. -3. -2. -1.  0.  1.  2.  3.  4.  5.]\n",
      " [-5. -4. -3. -2. -1.  0.  1.  2.  3.  4.  5.]\n",
      " [-5. -4. -3. -2. -1.  0.  1.  2.  3.  4.  5.]\n",
      " [-5. -4. -3. -2. -1.  0.  1.  2.  3.  4.  5.]\n",
      " [-5. -4. -3. -2. -1.  0.  1.  2.  3.  4.  5.]\n",
      " [-5. -4. -3. -2. -1.  0.  1.  2.  3.  4.  5.]]\n",
      "5-  [[-3.  -3.  -3.  -3.  -3.  -3.  -3.  -3.  -3.  -3.  -3. ]\n",
      " [-2.2 -2.2 -2.2 -2.2 -2.2 -2.2 -2.2 -2.2 -2.2 -2.2 -2.2]\n",
      " [-1.4 -1.4 -1.4 -1.4 -1.4 -1.4 -1.4 -1.4 -1.4 -1.4 -1.4]\n",
      " [-0.6 -0.6 -0.6 -0.6 -0.6 -0.6 -0.6 -0.6 -0.6 -0.6 -0.6]\n",
      " [ 0.2  0.2  0.2  0.2  0.2  0.2  0.2  0.2  0.2  0.2  0.2]\n",
      " [ 1.   1.   1.   1.   1.   1.   1.   1.   1.   1.   1. ]\n",
      " [ 1.8  1.8  1.8  1.8  1.8  1.8  1.8  1.8  1.8  1.8  1.8]\n",
      " [ 2.6  2.6  2.6  2.6  2.6  2.6  2.6  2.6  2.6  2.6  2.6]\n",
      " [ 3.4  3.4  3.4  3.4  3.4  3.4  3.4  3.4  3.4  3.4  3.4]\n",
      " [ 4.2  4.2  4.2  4.2  4.2  4.2  4.2  4.2  4.2  4.2  4.2]\n",
      " [ 5.   5.   5.   5.   5.   5.   5.   5.   5.   5.   5. ]]\n"
     ]
    }
   ],
   "source": [
    "# Linear\n",
    "print(\"1- \", np.arange(0, 10, 0.5))\n",
    "print(\"2- \", np.linspace(0, 50, 11))\n",
    "\n",
    "# Logarithm\n",
    "print(\"3- \",np.logspace(1, 5, 5))\n",
    "\n",
    "# Grid\n",
    "x = np.linspace(-5, 5, 11)\n",
    "y = np.linspace(-3, 5, 11)\n",
    "X, Y =np.meshgrid(x, y)\n",
    "print(\"4- \",X)\n",
    "print(\"5- \",Y)"
   ]
  },
  {
   "cell_type": "code",
   "execution_count": 15,
   "id": "0350a436",
   "metadata": {},
   "outputs": [
    {
     "data": {
      "image/png": "[encoded data removed]",
      "text/plain": [
       "<Figure size 432x288 with 1 Axes>"
      ]
     },
     "metadata": {
      "needs_background": "light"
     },
     "output_type": "display_data"
    }
   ],
   "source": [
    "x1= np.arange(-2, 2, 0.1)\n",
    "y1= np.sin(x1)\n",
    "plt.plot(x1, y1)\n",
    "plt.show()"
   ]
  },
  {
   "cell_type": "code",
   "execution_count": 17,
   "id": "d1369c4a",
   "metadata": {},
   "outputs": [
    {
     "data": {
      "image/png": "[encoded data removed]",
      "text/plain": [
       "<Figure size 432x288 with 1 Axes>"
      ]
     },
     "metadata": {
      "needs_background": "light"
     },
     "output_type": "display_data"
    }
   ],
   "source": [
    "x2 = np.linspace(-2, 10, 60)\n",
    "y2 = np.sin(x2)\n",
    "plt.plot(x2, y2)\n",
    "plt.show()"
   ]
  },
  {
   "cell_type": "code",
   "execution_count": 13,
   "id": "e9a744b7",
   "metadata": {},
   "outputs": [
    {
     "data": {
      "text/plain": [
       "array([   1.,   10.,  100., 1000.])"
      ]
     },
     "execution_count": 13,
     "metadata": {},
     "output_type": "execute_result"
    }
   ],
   "source": [
    "np.logspace(0, 3, 4)"
   ]
  },
  {
   "cell_type": "code",
   "execution_count": 46,
   "id": "ce1c65f7",
   "metadata": {},
   "outputs": [
    {
     "name": "stdout",
     "output_type": "stream",
     "text": [
      "[   1.   10.  100. 1000.]\n"
     ]
    },
    {
     "data": {
      "image/png": "[encoded data removed]",
      "text/plain": [
       "<Figure size 432x288 with 1 Axes>"
      ]
     },
     "metadata": {
      "needs_background": "light"
     },
     "output_type": "display_data"
    }
   ],
   "source": [
    "x3 = np.geomspace(1, 1000, 4)\n",
    "print(x3)\n",
    "y3 = np.log10(x3)\n",
    "plt.plot(x3, y3)\n",
    "plt.show()"
   ]
  },
  {
   "cell_type": "code",
   "execution_count": 50,
   "id": "fd1ce28e",
   "metadata": {},
   "outputs": [
    {
     "data": {
      "image/png": "[encoded data removed]",
      "text/plain": [
       "<Figure size 432x288 with 1 Axes>"
      ]
     },
     "metadata": {
      "needs_background": "light"
     },
     "output_type": "display_data"
    }
   ],
   "source": [
    "x4 = np.arange(-10, 10.1, 0.1)\n",
    "y4 = np.arange(-10, 10.1, 0.1)\n",
    "X, Y = np.meshgrid(x4, y4, sparse=True)\n",
    "Z = np.sin(X**2+ Y**2)\n",
    "plt.imshow(Z)\n",
    "plt.xticks(ticks=np.linspace(0, len(x4), 21, dtype=int), labels=np.linspace(-10, 10, 21, dtype=int), rotation=90)\n",
    "plt.yticks(ticks=np.linspace(0, len(x4), 21, dtype=int), labels=np.linspace(-10, 10, 21, dtype=int))\n",
    "\n",
    "plt.show()"
   ]
  },
  {
   "cell_type": "markdown",
   "id": "2bcfa260",
   "metadata": {},
   "source": [
    "### Math"
   ]
  },
  {
   "cell_type": "code",
   "execution_count": 20,
   "id": "79d1bbe2",
   "metadata": {},
   "outputs": [
    {
     "name": "stdout",
     "output_type": "stream",
     "text": [
      "[-1.22464680e-16 -8.66025404e-01 -8.66025404e-01 -8.88178420e-16\n",
      "  8.66025404e-01  8.66025404e-01  1.89882152e-15]\n",
      "[-1.  -0.5  0.5  1.   0.5 -0.5 -1. ]\n",
      "1.0\n",
      "[  1   8  27  64 125]\n",
      "21\n"
     ]
    },
    {
     "data": {
      "text/plain": [
       "array([ 9, 12])"
      ]
     },
     "execution_count": 20,
     "metadata": {},
     "output_type": "execute_result"
    }
   ],
   "source": [
    "# np.sin(), np.cos(), np.sinh(), np.cosh()\n",
    "x = np.arange(-np.pi, np.pi+np.pi/3, np.pi/3)\n",
    "print(np.sin(x))\n",
    "print(np.cos(x))\n",
    "\n",
    "print(np.log(np.e))\n",
    "\n",
    "print(np.power([1, 2, 3, 4, 5], 3))\n",
    "\n",
    "# a = [1 2 3 4 5 6]\n",
    "print(np.sum(a))\n",
    "\n",
    "\n",
    "b = a.reshape((3,2))\n",
    "np.sum(b,axis=0)"
   ]
  },
  {
   "cell_type": "code",
   "execution_count": 52,
   "id": "5bbd4c2f",
   "metadata": {},
   "outputs": [
    {
     "data": {
      "text/plain": [
       "(10.0, 11.0)"
      ]
     },
     "execution_count": 52,
     "metadata": {},
     "output_type": "execute_result"
    }
   ],
   "source": [
    "num = 10.3\n",
    "np.floor(num), np.ceil(num)"
   ]
  },
  {
   "cell_type": "code",
   "execution_count": 54,
   "id": "f01b0ba7",
   "metadata": {},
   "outputs": [
    {
     "data": {
      "text/plain": [
       "(10.0, 10.0, 11.0)"
      ]
     },
     "execution_count": 54,
     "metadata": {},
     "output_type": "execute_result"
    }
   ],
   "source": [
    "np.rint(10.3), np.rint(10.5), np.rint(10.8)"
   ]
  },
  {
   "cell_type": "code",
   "execution_count": 2,
   "id": "24c7bb43",
   "metadata": {},
   "outputs": [
    {
     "data": {
      "text/plain": [
       "array([ 1,  2,  3,  4,  5,  6,  7,  8,  9, 10])"
      ]
     },
     "execution_count": 2,
     "metadata": {},
     "output_type": "execute_result"
    }
   ],
   "source": [
    "test = np.arange(1,11)\n",
    "test"
   ]
  },
  {
   "cell_type": "code",
   "execution_count": 3,
   "id": "8f01e8c0",
   "metadata": {},
   "outputs": [
    {
     "data": {
      "text/plain": [
       "55"
      ]
     },
     "execution_count": 3,
     "metadata": {},
     "output_type": "execute_result"
    }
   ],
   "source": [
    "np.sum(test)"
   ]
  },
  {
   "cell_type": "code",
   "execution_count": 4,
   "id": "34a3404a",
   "metadata": {},
   "outputs": [
    {
     "data": {
      "text/plain": [
       "array([0, 0, 0, 0, 0, 0, 0, 0, 0, 0])"
      ]
     },
     "execution_count": 4,
     "metadata": {},
     "output_type": "execute_result"
    }
   ],
   "source": [
    "np.subtract(test, test)"
   ]
  },
  {
   "cell_type": "code",
   "execution_count": 5,
   "id": "8dec7bb9",
   "metadata": {},
   "outputs": [
    {
     "data": {
      "text/plain": [
       "array([-2, -1,  0,  1,  2,  3,  4,  5,  6,  7])"
      ]
     },
     "execution_count": 5,
     "metadata": {},
     "output_type": "execute_result"
    }
   ],
   "source": [
    "np.subtract(test, 3)"
   ]
  },
  {
   "cell_type": "code",
   "execution_count": 6,
   "id": "b71678ac",
   "metadata": {},
   "outputs": [
    {
     "data": {
      "text/plain": [
       "array([1, 1, 1, 1, 1, 1, 1, 1, 1])"
      ]
     },
     "execution_count": 6,
     "metadata": {},
     "output_type": "execute_result"
    }
   ],
   "source": [
    "np.diff(test)  # 2-1, 3-2, ..."
   ]
  },
  {
   "cell_type": "code",
   "execution_count": 7,
   "id": "9b29b06e",
   "metadata": {},
   "outputs": [
    {
     "data": {
      "text/plain": [
       "3628800"
      ]
     },
     "execution_count": 7,
     "metadata": {},
     "output_type": "execute_result"
    }
   ],
   "source": [
    "np.prod(test)  # calculates the multiplication of all elements"
   ]
  },
  {
   "cell_type": "code",
   "execution_count": 8,
   "id": "52e242dc",
   "metadata": {},
   "outputs": [
    {
     "data": {
      "text/plain": [
       "array([1., 1., 1., 1., 1., 1., 1., 1., 1., 1.])"
      ]
     },
     "execution_count": 8,
     "metadata": {},
     "output_type": "execute_result"
    }
   ],
   "source": [
    "np.divide(test, test)"
   ]
  },
  {
   "cell_type": "code",
   "execution_count": 9,
   "id": "c64d4714",
   "metadata": {},
   "outputs": [
    {
     "data": {
      "text/plain": [
       "array([0.5, 1. , 1.5, 2. , 2.5, 3. , 3.5, 4. , 4.5, 5. ])"
      ]
     },
     "execution_count": 9,
     "metadata": {},
     "output_type": "execute_result"
    }
   ],
   "source": [
    "np.divide(test, 2)"
   ]
  },
  {
   "cell_type": "code",
   "execution_count": 11,
   "id": "ccd121f7",
   "metadata": {},
   "outputs": [
    {
     "data": {
      "text/plain": [
       "array([         1,          4,         27,        256,       3125,\n",
       "            46656,     823543,   16777216,  387420489, 1410065408],\n",
       "      dtype=int32)"
      ]
     },
     "execution_count": 11,
     "metadata": {},
     "output_type": "execute_result"
    }
   ],
   "source": [
    "np.power(test, test)"
   ]
  },
  {
   "cell_type": "code",
   "execution_count": 12,
   "id": "15c90998",
   "metadata": {},
   "outputs": [
    {
     "data": {
      "text/plain": [
       "array([1.        , 1.41421356, 1.73205081, 2.        , 2.23606798,\n",
       "       2.44948974, 2.64575131, 2.82842712, 3.        , 3.16227766])"
      ]
     },
     "execution_count": 12,
     "metadata": {},
     "output_type": "execute_result"
    }
   ],
   "source": [
    "np.power(test, 1/2)"
   ]
  },
  {
   "cell_type": "code",
   "execution_count": 16,
   "id": "36c038a8",
   "metadata": {},
   "outputs": [
    {
     "data": {
      "text/plain": [
       "array([1, 2, 0, 1, 2, 0, 1, 2, 0, 1], dtype=int32)"
      ]
     },
     "execution_count": 16,
     "metadata": {},
     "output_type": "execute_result"
    }
   ],
   "source": [
    "np.mod(test, 3)  # Baghimande"
   ]
  },
  {
   "cell_type": "code",
   "execution_count": 17,
   "id": "c5bb1c8e",
   "metadata": {},
   "outputs": [
    {
     "data": {
      "text/plain": [
       "(array([0, 0, 1, 1, 1, 2, 2, 2, 3, 3], dtype=int32),\n",
       " array([1, 2, 0, 1, 2, 0, 1, 2, 0, 1], dtype=int32))"
      ]
     },
     "execution_count": 17,
     "metadata": {},
     "output_type": "execute_result"
    }
   ],
   "source": [
    "np.divmod(test, 3)  # baghimande va khareje ghesmat"
   ]
  },
  {
   "cell_type": "code",
   "execution_count": 19,
   "id": "7e735d3b",
   "metadata": {},
   "outputs": [
    {
     "data": {
      "text/plain": [
       "array([0.        , 1.57079633, 3.14159265, 4.71238898, 6.28318531])"
      ]
     },
     "execution_count": 19,
     "metadata": {},
     "output_type": "execute_result"
    }
   ],
   "source": [
    "ntest = np.arange(0, 2*np.pi+np.pi/2, np.pi/2)\n",
    "ntest"
   ]
  },
  {
   "cell_type": "code",
   "execution_count": 21,
   "id": "961532bb",
   "metadata": {},
   "outputs": [
    {
     "data": {
      "text/plain": [
       "(array([ 0.0000000e+00,  1.0000000e+00,  1.2246468e-16, -1.0000000e+00,\n",
       "        -2.4492936e-16]),\n",
       " array([ 1.0000000e+00,  6.1232340e-17, -1.0000000e+00, -1.8369702e-16,\n",
       "         1.0000000e+00]))"
      ]
     },
     "execution_count": 21,
     "metadata": {},
     "output_type": "execute_result"
    }
   ],
   "source": [
    "np.sin(ntest), np.cos(ntest)"
   ]
  },
  {
   "cell_type": "code",
   "execution_count": 22,
   "id": "925f0730",
   "metadata": {},
   "outputs": [
    {
     "data": {
      "image/png": "[encoded data removed]",
      "text/plain": [
       "<Figure size 432x288 with 1 Axes>"
      ]
     },
     "metadata": {
      "needs_background": "light"
     },
     "output_type": "display_data"
    }
   ],
   "source": [
    "ntest = np.arange(0, 2*np.pi+np.pi/20, np.pi/20)\n",
    "plt.plot(ntest, np.sin(ntest))\n",
    "plt.plot(ntest, np.cos(ntest))\n",
    "plt.show()"
   ]
  },
  {
   "cell_type": "code",
   "execution_count": 28,
   "id": "3c85ecfb",
   "metadata": {},
   "outputs": [
    {
     "data": {
      "text/plain": [
       "(0.0, 1.5707963267948966, 1.5707963267948966)"
      ]
     },
     "execution_count": 28,
     "metadata": {},
     "output_type": "execute_result"
    }
   ],
   "source": [
    "test1 = 0\n",
    "np.arcsin(test1), np.arccos(test1), np.pi/2"
   ]
  },
  {
   "cell_type": "code",
   "execution_count": 30,
   "id": "7df29f21",
   "metadata": {},
   "outputs": [
    {
     "data": {
      "text/plain": [
       "(0.0, 0.0)"
      ]
     },
     "execution_count": 30,
     "metadata": {},
     "output_type": "execute_result"
    }
   ],
   "source": [
    "np.sinh(test1), np.arcsinh(test1)"
   ]
  },
  {
   "cell_type": "code",
   "execution_count": 26,
   "id": "723a99a6",
   "metadata": {},
   "outputs": [
    {
     "data": {
      "text/plain": [
       "1.999998351770852"
      ]
     },
     "execution_count": 26,
     "metadata": {},
     "output_type": "execute_result"
    }
   ],
   "source": [
    "x = np.linspace(0, np.pi, 1000)\n",
    "y = np.sin(x)\n",
    "np.trapz(y, x)  # calculates the numeric integral by calculating the area: this should be 2"
   ]
  },
  {
   "cell_type": "code",
   "execution_count": 27,
   "id": "e31bbd90",
   "metadata": {},
   "outputs": [
    {
     "data": {
      "image/png": "[encoded data removed]",
      "text/plain": [
       "<Figure size 432x288 with 1 Axes>"
      ]
     },
     "metadata": {
      "needs_background": "light"
     },
     "output_type": "display_data"
    }
   ],
   "source": [
    "y_prime = np.gradient(y, x)  # calculates the derivative of y: sould be cos(x)\n",
    "plt.plot(x, y)\n",
    "plt.plot(x, y_prime)\n",
    "plt.show()"
   ]
  },
  {
   "cell_type": "code",
   "execution_count": 53,
   "id": "da638c57",
   "metadata": {},
   "outputs": [
    {
     "data": {
      "text/plain": [
       "array([[0, 1, 2],\n",
       "       [3, 4, 5],\n",
       "       [6, 7, 8]])"
      ]
     },
     "execution_count": 53,
     "metadata": {},
     "output_type": "execute_result"
    }
   ],
   "source": [
    "test2 = np.arange(0, 9, 1)\n",
    "test2 = test2.reshape((3, 3))\n",
    "test2"
   ]
  },
  {
   "cell_type": "code",
   "execution_count": 56,
   "id": "2c708aaf",
   "metadata": {},
   "outputs": [
    {
     "data": {
      "text/plain": [
       "array([ 9, 12, 15])"
      ]
     },
     "execution_count": 56,
     "metadata": {},
     "output_type": "execute_result"
    }
   ],
   "source": [
    "np.sum(test2 , axis=0)  # jam roye soton"
   ]
  },
  {
   "cell_type": "code",
   "execution_count": 57,
   "id": "e715e3d3",
   "metadata": {},
   "outputs": [
    {
     "data": {
      "text/plain": [
       "array([ 3, 12, 21])"
      ]
     },
     "execution_count": 57,
     "metadata": {},
     "output_type": "execute_result"
    }
   ],
   "source": [
    "np.sum(test2 , axis=1)  # jam roye satr"
   ]
  },
  {
   "cell_type": "markdown",
   "id": "f0686075",
   "metadata": {},
   "source": [
    "### Statistics"
   ]
  },
  {
   "cell_type": "code",
   "execution_count": 5,
   "id": "a87f87c2",
   "metadata": {},
   "outputs": [
    {
     "name": "stdout",
     "output_type": "stream",
     "text": [
      "1-  [3. 4.]\n",
      "2-  [0.5 0.5 0.5]\n",
      "3-  [2.66666667 2.66666667]\n",
      "4-  3.5\n",
      "5-  0\n",
      "6-  199\n",
      "7-  [1 3 5]\n"
     ]
    }
   ],
   "source": [
    "b = a.reshape((3,2))\n",
    "\n",
    "print(\"1- \",np.mean(b, axis=0))\n",
    "print(\"2- \",np.std(b, axis=1))  # Root-mean-square deviation\n",
    "print(\"3- \",np.var(b, axis=0))\n",
    "print(\"4- \",np.median(a))\n",
    "\n",
    "c = np.arange(0,200,1)\n",
    "print(\"5- \",np.min(c))\n",
    "print(\"6- \",np.max(c))\n",
    "print(\"7- \",np.min(b, axis=1))"
   ]
  },
  {
   "cell_type": "code",
   "execution_count": 6,
   "id": "30f65d8c",
   "metadata": {},
   "outputs": [
    {
     "data": {
      "text/plain": [
       "(-13, 10)"
      ]
     },
     "execution_count": 6,
     "metadata": {},
     "output_type": "execute_result"
    }
   ],
   "source": [
    "x3 = np.array([1, 10, -8, 4, 0, -13])\n",
    "np.min(x3), np.max(x3)"
   ]
  },
  {
   "cell_type": "code",
   "execution_count": 7,
   "id": "d2756fef",
   "metadata": {},
   "outputs": [
    {
     "data": {
      "text/plain": [
       "23"
      ]
     },
     "execution_count": 7,
     "metadata": {},
     "output_type": "execute_result"
    }
   ],
   "source": [
    "np.ptp(x3)  # max-min"
   ]
  },
  {
   "cell_type": "code",
   "execution_count": 8,
   "id": "d3bdada7",
   "metadata": {},
   "outputs": [
    {
     "data": {
      "text/plain": [
       "(5, 1)"
      ]
     },
     "execution_count": 8,
     "metadata": {},
     "output_type": "execute_result"
    }
   ],
   "source": [
    "np.argmin(x3), np.argmax(x3)  # index of maximum and minimum value"
   ]
  },
  {
   "cell_type": "code",
   "execution_count": 9,
   "id": "55de37fc",
   "metadata": {},
   "outputs": [
    {
     "data": {
      "text/plain": [
       "(-1.0, -1.0)"
      ]
     },
     "execution_count": 9,
     "metadata": {},
     "output_type": "execute_result"
    }
   ],
   "source": [
    "np.mean(x3), np.sum(x3)/len(x3)"
   ]
  },
  {
   "cell_type": "code",
   "execution_count": 10,
   "id": "eebcabcf",
   "metadata": {},
   "outputs": [
    {
     "data": {
      "text/plain": [
       "(0.5, 1)"
      ]
     },
     "execution_count": 10,
     "metadata": {},
     "output_type": "execute_result"
    }
   ],
   "source": [
    "np.median(x3), np.sort(x3)[int(len(x3)/2)]  # میانه\n",
    "# note that if you have total odd number of numbers, it will shou you the middle one.\n",
    "# but if you have even number of numbers, it ill show you the mean of the two in the middle. in this case it is (0+1)/2"
   ]
  },
  {
   "cell_type": "code",
   "execution_count": 11,
   "id": "d3d61bd7",
   "metadata": {},
   "outputs": [
    {
     "data": {
      "text/plain": [
       "(7.571877794400365, 7.571877794400365)"
      ]
     },
     "execution_count": 11,
     "metadata": {},
     "output_type": "execute_result"
    }
   ],
   "source": [
    "np.std(x3), np.mean((np.mean(x3)-x3)**2)**0.5"
   ]
  },
  {
   "cell_type": "code",
   "execution_count": 12,
   "id": "a8b91689",
   "metadata": {},
   "outputs": [
    {
     "data": {
      "text/plain": [
       "(57.333333333333336, 57.333333333333336)"
      ]
     },
     "execution_count": 12,
     "metadata": {},
     "output_type": "execute_result"
    }
   ],
   "source": [
    "np.var(x3), np.mean((np.mean(x3)-x3)**2)"
   ]
  },
  {
   "cell_type": "code",
   "execution_count": 13,
   "id": "53a1cb5b",
   "metadata": {},
   "outputs": [
    {
     "data": {
      "text/plain": [
       "500.5"
      ]
     },
     "execution_count": 13,
     "metadata": {},
     "output_type": "execute_result"
    }
   ],
   "source": [
    "rs = np.arange(1, 1001, 1).reshape((10, 10, 10))  # a cube\n",
    "np.mean(rs)"
   ]
  },
  {
   "cell_type": "code",
   "execution_count": 14,
   "id": "0953e88d",
   "metadata": {},
   "outputs": [
    {
     "data": {
      "text/plain": [
       "array([[451., 452., 453., 454., 455., 456., 457., 458., 459., 460.],\n",
       "       [461., 462., 463., 464., 465., 466., 467., 468., 469., 470.],\n",
       "       [471., 472., 473., 474., 475., 476., 477., 478., 479., 480.],\n",
       "       [481., 482., 483., 484., 485., 486., 487., 488., 489., 490.],\n",
       "       [491., 492., 493., 494., 495., 496., 497., 498., 499., 500.],\n",
       "       [501., 502., 503., 504., 505., 506., 507., 508., 509., 510.],\n",
       "       [511., 512., 513., 514., 515., 516., 517., 518., 519., 520.],\n",
       "       [521., 522., 523., 524., 525., 526., 527., 528., 529., 530.],\n",
       "       [531., 532., 533., 534., 535., 536., 537., 538., 539., 540.],\n",
       "       [541., 542., 543., 544., 545., 546., 547., 548., 549., 550.]])"
      ]
     },
     "execution_count": 14,
     "metadata": {},
     "output_type": "execute_result"
    }
   ],
   "source": [
    "np.mean(rs, axis=0)"
   ]
  },
  {
   "cell_type": "code",
   "execution_count": 15,
   "id": "2fc9b203",
   "metadata": {},
   "outputs": [
    {
     "data": {
      "text/plain": [
       "array([[8.25, 8.25, 8.25, 8.25, 8.25, 8.25, 8.25, 8.25, 8.25, 8.25],\n",
       "       [8.25, 8.25, 8.25, 8.25, 8.25, 8.25, 8.25, 8.25, 8.25, 8.25],\n",
       "       [8.25, 8.25, 8.25, 8.25, 8.25, 8.25, 8.25, 8.25, 8.25, 8.25],\n",
       "       [8.25, 8.25, 8.25, 8.25, 8.25, 8.25, 8.25, 8.25, 8.25, 8.25],\n",
       "       [8.25, 8.25, 8.25, 8.25, 8.25, 8.25, 8.25, 8.25, 8.25, 8.25],\n",
       "       [8.25, 8.25, 8.25, 8.25, 8.25, 8.25, 8.25, 8.25, 8.25, 8.25],\n",
       "       [8.25, 8.25, 8.25, 8.25, 8.25, 8.25, 8.25, 8.25, 8.25, 8.25],\n",
       "       [8.25, 8.25, 8.25, 8.25, 8.25, 8.25, 8.25, 8.25, 8.25, 8.25],\n",
       "       [8.25, 8.25, 8.25, 8.25, 8.25, 8.25, 8.25, 8.25, 8.25, 8.25],\n",
       "       [8.25, 8.25, 8.25, 8.25, 8.25, 8.25, 8.25, 8.25, 8.25, 8.25]])"
      ]
     },
     "execution_count": 15,
     "metadata": {},
     "output_type": "execute_result"
    }
   ],
   "source": [
    "np.var(rs, axis=2)"
   ]
  },
  {
   "cell_type": "code",
   "execution_count": 16,
   "id": "ef218a59",
   "metadata": {},
   "outputs": [
    {
     "data": {
      "text/plain": [
       "(array([1, 0, 1, 0, 0, 1, 1, 1, 0, 1], dtype=int64),\n",
       " array([-13. , -10.7,  -8.4,  -6.1,  -3.8,  -1.5,   0.8,   3.1,   5.4,\n",
       "          7.7,  10. ]))"
      ]
     },
     "execution_count": 16,
     "metadata": {},
     "output_type": "execute_result"
    }
   ],
   "source": [
    "np.histogram(x3)  # it will convert the datas from minimum to maximum to a linear space. the default bean is . you can set it manualy to."
   ]
  },
  {
   "cell_type": "code",
   "execution_count": 19,
   "id": "a1a64b66",
   "metadata": {},
   "outputs": [
    {
     "data": {
      "text/plain": [
       "(array([1, 1, 1, 2, 1], dtype=int64),\n",
       " array([-13. ,  -8.4,  -3.8,   0.8,   5.4,  10. ]))"
      ]
     },
     "execution_count": 19,
     "metadata": {},
     "output_type": "execute_result"
    }
   ],
   "source": [
    "np.histogram(x3, bins=5)  # first array is the number of numbers in the range"
   ]
  },
  {
   "cell_type": "code",
   "execution_count": null,
   "id": "e46a1e4a",
   "metadata": {},
   "outputs": [],
   "source": []
  },
  {
   "cell_type": "markdown",
   "id": "0636ec09",
   "metadata": {},
   "source": [
    "### Sort and Search"
   ]
  },
  {
   "cell_type": "code",
   "execution_count": 31,
   "id": "ab6d0387",
   "metadata": {},
   "outputs": [
    {
     "name": "stdout",
     "output_type": "stream",
     "text": [
      "1-  399\n",
      "2-  1\n",
      "3-  [ 199  198  197  196  195  194  193  192  191  190  189  188  187  186\n",
      "  185  184  183  182  181  180  179  178  177  176  175  174  173  172\n",
      "  171  170  169  168  167  166  165  164  163  162  161  160  159  158\n",
      "  157  156  155  154  153  152  151  150  149  148  147  146  145  144\n",
      "  143  142  141  140  139  138  137  136  135  134  133  132  131  130\n",
      "  129  128  127  126  125  124  123  122  121  120  119  118  117  116\n",
      "  115  114  113  112  111  110  109  108  107  106  105  104  103  102\n",
      "  101  100   99   98   97   96   95   94   93   92   91   90   89   88\n",
      "   87   86   85   84   83   82   81   80   79   78   77   76   75   74\n",
      "   73   72   71   70   69   68   67   66   65   64   63   62   61   60\n",
      "   59   58   57   56   55   54   53   52   51   50   49   48   47   46\n",
      "   45   44   43   42   41   40   39   38   37   36   35   34   33   32\n",
      "   31   30   29   28   27   26   25   24   23   22   21   20   19   18\n",
      "   17   16   15   14   13   12   11   10    9    8    7    6    5    4\n",
      "    3    2    1    0   -1   -2   -3   -4   -5   -6   -7   -8   -9  -10\n",
      "  -11  -12  -13  -14  -15  -16  -17  -18  -19  -20  -21  -22  -23  -24\n",
      "  -25  -26  -27  -28  -29  -30  -31  -32  -33  -34  -35  -36  -37  -38\n",
      "  -39  -40  -41  -42  -43  -44  -45  -46  -47  -48  -49  -50  -51  -52\n",
      "  -53  -54  -55  -56  -57  -58  -59  -60  -61  -62  -63  -64  -65  -66\n",
      "  -67  -68  -69  -70  -71  -72  -73  -74  -75  -76  -77  -78  -79  -80\n",
      "  -81  -82  -83  -84  -85  -86  -87  -88  -89  -90  -91  -92  -93  -94\n",
      "  -95  -96  -97  -98  -99 -100 -101 -102 -103 -104 -105 -106 -107 -108\n",
      " -109 -110 -111 -112 -113 -114 -115 -116 -117 -118 -119 -120 -121 -122\n",
      " -123 -124 -125 -126 -127 -128 -129 -130 -131 -132 -133 -134 -135 -136\n",
      " -137 -138 -139 -140 -141 -142 -143 -144 -145 -146 -147 -148 -149 -150\n",
      " -151 -152 -153 -154 -155 -156 -157 -158 -159 -160 -161 -162 -163 -164\n",
      " -165 -166 -167 -168 -169 -170 -171 -172 -173 -174 -175 -176 -177 -178\n",
      " -179 -180 -181 -182 -183 -184 -185 -186 -187 -188 -189 -190 -191 -192\n",
      " -193 -194 -195 -196 -197 -198 -199 -200]\n",
      "4-  [11 12 13 14 15 16 17 18 19]\n",
      "5-  [ 11  12  13  14  15  16  17  18  19  20  21  22  23  24  25  26  27  28\n",
      "  29  30  31  32  33  34  35  36  37  38  39  40  41  42  43  44  45  46\n",
      "  47  48  49  50  51  52  53  54  55  56  57  58  59  60  61  62  63  64\n",
      "  65  66  67  68  69  70  71  72  73  74  75  76  77  78  79  80  81  82\n",
      "  83  84  85  86  87  88  89  90  91  92  93  94  95  96  97  98  99 100\n",
      " 101 102 103 104 105 106 107 108 109 110 111 112 113 114 115 116 117 118\n",
      " 119 120 121 122 123 124 125 126 127 128 129 130 131 132 133 134 135 136\n",
      " 137 138 139 140 141 142 143 144 145 146 147 148 149 150 151 152 153 154\n",
      " 155 156 157 158 159 160 161 162 163 164 165 166 167 168 169 170 171 172\n",
      " 173 174 175 176 177 178 179 180 181 182 183 184 185 186 187 188 189 190\n",
      " 191 192 193 194 195 196 197 198 199]\n",
      "6-  [-200 -199 -198 -197 -196 -195 -194 -193 -192 -191 -190 -189 -188 -187\n",
      " -186 -185 -184 -183 -182 -181 -180 -179 -178 -177 -176 -175 -174 -173\n",
      " -172 -171 -170 -169 -168 -167 -166 -165 -164 -163 -162 -161 -160 -159\n",
      " -158 -157 -156 -155 -154 -153 -152 -151 -150 -149 -148 -147 -146 -145\n",
      " -144 -143 -142 -141 -140 -139 -138 -137 -136 -135 -134 -133 -132 -131\n",
      " -130 -129 -128 -127 -126 -125 -124 -123 -122 -121 -120 -119 -118 -117\n",
      " -116 -115 -114 -113 -112 -111 -110 -109 -108 -107 -106 -105 -104 -103\n",
      " -102 -101 -100  -99  -98  -97  -96  -95  -94  -93  -92  -91  -90  -89\n",
      "  -88  -87  -86  -85  -84  -83  -82  -81  -80  -79  -78  -77  -76  -75\n",
      "  -74  -73  -72  -71  -70  -69  -68  -67  -66  -65  -64  -63  -62  -61\n",
      "  -60  -59  -58  -57  -56  -55  -54  -53  -52  -51  -50  -49  -48  -47\n",
      "  -46  -45  -44  -43  -42  -41  -40  -39  -38  -37  -36  -35  -34  -33\n",
      "  -32  -31  -30  -29  -28  -27  -26  -25  -24  -23  -22  -21  -20  -19\n",
      "  -18  -17  -16  -15  -14  -13  -12  -11  -10   -9   -8   -7   -6   -5\n",
      "   -4   -3   -2   -1]\n",
      "7-  (array([2, 2], dtype=int64), array([0, 1], dtype=int64))\n"
     ]
    },
    {
     "ename": "IndexError",
     "evalue": "tuple index out of range",
     "output_type": "error",
     "traceback": [
      "\u001b[1;31m---------------------------------------------------------------------------\u001b[0m",
      "\u001b[1;31mIndexError\u001b[0m                                Traceback (most recent call last)",
      "\u001b[1;32m~\\AppData\\Local\\Temp/ipykernel_6208/903932651.py\u001b[0m in \u001b[0;36m<module>\u001b[1;34m\u001b[0m\n\u001b[0;32m     17\u001b[0m \u001b[1;33m\u001b[0m\u001b[0m\n\u001b[0;32m     18\u001b[0m \u001b[0mix\u001b[0m \u001b[1;33m=\u001b[0m \u001b[0mnp\u001b[0m\u001b[1;33m.\u001b[0m\u001b[0mwhere\u001b[0m\u001b[1;33m(\u001b[0m\u001b[0ma\u001b[0m\u001b[1;33m>\u001b[0m\u001b[1;36m3\u001b[0m\u001b[1;33m)\u001b[0m\u001b[1;33m[\u001b[0m\u001b[1;36m0\u001b[0m\u001b[1;33m]\u001b[0m\u001b[1;33m\u001b[0m\u001b[1;33m\u001b[0m\u001b[0m\n\u001b[1;32m---> 19\u001b[1;33m \u001b[0miy\u001b[0m \u001b[1;33m=\u001b[0m \u001b[0mnp\u001b[0m\u001b[1;33m.\u001b[0m\u001b[0mwhere\u001b[0m\u001b[1;33m(\u001b[0m\u001b[0ma\u001b[0m\u001b[1;33m>\u001b[0m\u001b[1;36m3\u001b[0m\u001b[1;33m)\u001b[0m\u001b[1;33m[\u001b[0m\u001b[1;36m1\u001b[0m\u001b[1;33m]\u001b[0m\u001b[1;33m\u001b[0m\u001b[1;33m\u001b[0m\u001b[0m\n\u001b[0m\u001b[0;32m     20\u001b[0m \u001b[1;33m\u001b[0m\u001b[0m\n\u001b[0;32m     21\u001b[0m \u001b[0mprint\u001b[0m\u001b[1;33m(\u001b[0m\u001b[1;34m\"8- \"\u001b[0m\u001b[1;33m,\u001b[0m\u001b[0mix\u001b[0m\u001b[1;33m)\u001b[0m\u001b[1;33m\u001b[0m\u001b[1;33m\u001b[0m\u001b[0m\n",
      "\u001b[1;31mIndexError\u001b[0m: tuple index out of range"
     ]
    }
   ],
   "source": [
    "d = np.arange(-200, 200, 1)\n",
    "e = np.arange(400, 0, -1)\n",
    "print(\"1- \",np.argmax(d)) # index of th maximum value\n",
    "index = np.argmax(d)\n",
    "print(\"2- \",e[index])\n",
    "\n",
    "sorted_d = np.sort(d)[::-1]  # sort and then read it with -1 steps\n",
    "print(\"3- \",sorted_d)\n",
    "\n",
    "print(\"4- \",np.extract((20>d)&(d>10), d))\n",
    "\n",
    "print(\"5- \",np.extract((20<d) | (d>10), d))  # means: or\n",
    "\n",
    "print(\"6- \",d[np.where(d<0)[0]])\n",
    "\n",
    "print(\"7- \",np.where(b>4))\n",
    "\n",
    "ix = np.where(a>3)[0]\n",
    "iy = np.where(a>3)[1]\n",
    "\n",
    "print(\"8- \",ix)\n",
    "print(\"9- \",iy)"
   ]
  },
  {
   "cell_type": "code",
   "execution_count": 32,
   "id": "95bf6cc6",
   "metadata": {},
   "outputs": [
    {
     "data": {
      "text/plain": [
       "array([-6,  1, 15, -7,  0,  2])"
      ]
     },
     "execution_count": 32,
     "metadata": {},
     "output_type": "execute_result"
    }
   ],
   "source": [
    "x4 = np.array([-6, 1, 15, -7, 0, 2])\n",
    "x4"
   ]
  },
  {
   "cell_type": "code",
   "execution_count": 33,
   "id": "d396ba8c",
   "metadata": {},
   "outputs": [
    {
     "data": {
      "text/plain": [
       "array([-7, -6,  0,  1,  2, 15])"
      ]
     },
     "execution_count": 33,
     "metadata": {},
     "output_type": "execute_result"
    }
   ],
   "source": [
    "np.sort(x4)"
   ]
  },
  {
   "cell_type": "code",
   "execution_count": 35,
   "id": "f85d0315",
   "metadata": {},
   "outputs": [
    {
     "data": {
      "text/plain": [
       "array([15,  2,  1,  0, -6, -7])"
      ]
     },
     "execution_count": 35,
     "metadata": {},
     "output_type": "execute_result"
    }
   ],
   "source": [
    "np.sort(x4)[::-1]"
   ]
  },
  {
   "cell_type": "code",
   "execution_count": 37,
   "id": "51040b74",
   "metadata": {},
   "outputs": [
    {
     "data": {
      "text/plain": [
       "array([[-5,  2,  3],\n",
       "       [-3,  4,  5],\n",
       "       [-6, -2,  9]])"
      ]
     },
     "execution_count": 37,
     "metadata": {},
     "output_type": "execute_result"
    }
   ],
   "source": [
    "z = [[2,-5,3],\n",
    "     [5,4, -3],\n",
    "     [-2,-6,9]]\n",
    "np.sort(z)"
   ]
  },
  {
   "cell_type": "code",
   "execution_count": 39,
   "id": "489fa343",
   "metadata": {},
   "outputs": [
    {
     "data": {
      "text/plain": [
       "array([3, 0, 4, 1, 5, 2], dtype=int64)"
      ]
     },
     "execution_count": 39,
     "metadata": {},
     "output_type": "execute_result"
    }
   ],
   "source": [
    "np.argsort(x4)  # it will show how the indexes (argomans) should be placed to the lit be ortd."
   ]
  },
  {
   "cell_type": "code",
   "execution_count": 41,
   "id": "8283cab1",
   "metadata": {},
   "outputs": [
    {
     "data": {
      "text/plain": [
       "(array([3, 0, 4, 1, 5, 2], dtype=int64), [-7, -6, 0, 1, 2, 15])"
      ]
     },
     "execution_count": 41,
     "metadata": {},
     "output_type": "execute_result"
    }
   ],
   "source": [
    "np.argsort(x4), [x4[i] for i in np.argsort(x4)]"
   ]
  },
  {
   "cell_type": "code",
   "execution_count": 43,
   "id": "49e60d75",
   "metadata": {},
   "outputs": [
    {
     "data": {
      "text/plain": [
       "(2, 3)"
      ]
     },
     "execution_count": 43,
     "metadata": {},
     "output_type": "execute_result"
    }
   ],
   "source": [
    "np.argmax(x4), np.argmin(x4)"
   ]
  },
  {
   "cell_type": "code",
   "execution_count": 45,
   "id": "93735150",
   "metadata": {},
   "outputs": [
    {
     "data": {
      "text/plain": [
       "array([15,  2])"
      ]
     },
     "execution_count": 45,
     "metadata": {},
     "output_type": "execute_result"
    }
   ],
   "source": [
    "np.extract(x4>1.5, x4)"
   ]
  },
  {
   "cell_type": "code",
   "execution_count": 47,
   "id": "83305a9c",
   "metadata": {},
   "outputs": [
    {
     "data": {
      "text/plain": [
       "array([ 1, 15,  2])"
      ]
     },
     "execution_count": 47,
     "metadata": {},
     "output_type": "execute_result"
    }
   ],
   "source": [
    "np.extract(np.sin(x4)>0.5, x4)"
   ]
  },
  {
   "cell_type": "code",
   "execution_count": 49,
   "id": "12f0bada",
   "metadata": {},
   "outputs": [
    {
     "data": {
      "text/plain": [
       "(array([2, 5], dtype=int64),)"
      ]
     },
     "execution_count": 49,
     "metadata": {},
     "output_type": "execute_result"
    }
   ],
   "source": [
    "np.where(x4>1.5)  # gives us the location of the numbers which saticfies the condition."
   ]
  },
  {
   "cell_type": "code",
   "execution_count": 52,
   "id": "796257f8",
   "metadata": {},
   "outputs": [
    {
     "data": {
      "text/plain": [
       "((array([2, 4, 5], dtype=int64),), (array([5], dtype=int64),))"
      ]
     },
     "execution_count": 52,
     "metadata": {},
     "output_type": "execute_result"
    }
   ],
   "source": [
    "np.where((1.5<x4) | (x4==0)), np.where((1.5<x4) & (x4<2.5)) "
   ]
  },
  {
   "cell_type": "code",
   "execution_count": 53,
   "id": "39ab77a3",
   "metadata": {},
   "outputs": [
    {
     "data": {
      "text/plain": [
       "(array([[2],\n",
       "        [5]], dtype=int64),\n",
       " array([[15],\n",
       "        [ 2]]))"
      ]
     },
     "execution_count": 53,
     "metadata": {},
     "output_type": "execute_result"
    }
   ],
   "source": [
    "np.argwhere(x4>1.5), x4[np.argwhere(x4>1.5)]"
   ]
  },
  {
   "cell_type": "code",
   "execution_count": null,
   "id": "678f8802",
   "metadata": {},
   "outputs": [],
   "source": []
  },
  {
   "cell_type": "markdown",
   "id": "948df66a",
   "metadata": {},
   "source": [
    "### Random Numbers"
   ]
  },
  {
   "cell_type": "code",
   "execution_count": 116,
   "id": "7186e709",
   "metadata": {},
   "outputs": [
    {
     "data": {
      "text/plain": [
       "array([[ 9.27896731,  9.56639165],\n",
       "       [11.32525487, 10.82279005],\n",
       "       [10.30552321,  9.6239914 ]])"
      ]
     },
     "execution_count": 116,
     "metadata": {},
     "output_type": "execute_result"
    }
   ],
   "source": [
    "np.random.normal(10, 1, size=(3, 2))  # Gaussian probability"
   ]
  },
  {
   "cell_type": "code",
   "execution_count": 117,
   "id": "774c683e",
   "metadata": {},
   "outputs": [
    {
     "data": {
      "text/plain": [
       "array([0.24605384, 0.91011038, 0.09965247, 0.76035255, 0.85667572,\n",
       "       0.98226526, 0.82421501, 0.7497231 , 0.69595561, 0.73512716])"
      ]
     },
     "execution_count": 117,
     "metadata": {},
     "output_type": "execute_result"
    }
   ],
   "source": [
    "np.random.uniform(0, 1, size=10)  # same probability"
   ]
  },
  {
   "cell_type": "code",
   "execution_count": 125,
   "id": "9562b603",
   "metadata": {},
   "outputs": [
    {
     "name": "stdout",
     "output_type": "stream",
     "text": [
      "c\n",
      "['b' 'c' 'b' 'a' 'b' 'a' 'c' 'd']\n",
      "['c' 'd' 'a']\n"
     ]
    }
   ],
   "source": [
    "h = ['a', 'b', 'c', 'd']\n",
    "print(np.random.choice(h))\n",
    "print(np.random.choice(h, 8))\n",
    "print(np.random.choice(h, 3, replace=False))  # no repetition numbers"
   ]
  },
  {
   "cell_type": "code",
   "execution_count": 126,
   "id": "af381db3",
   "metadata": {},
   "outputs": [
    {
     "data": {
      "text/plain": [
       "array([0.0745485 , 0.05678558, 0.05233952, 0.05406937, 0.27462414,\n",
       "       0.00981086, 0.06882376, 0.02439162, 0.07617827, 0.02960548])"
      ]
     },
     "execution_count": 126,
     "metadata": {},
     "output_type": "execute_result"
    }
   ],
   "source": [
    "np.random.pareto(10, size=10)"
   ]
  },
  {
   "cell_type": "code",
   "execution_count": 134,
   "id": "762c0cda",
   "metadata": {},
   "outputs": [
    {
     "data": {
      "text/plain": [
       "(array([ 980.,  964., 1014., 1023., 1041., 1017., 1008., 1003.,  983.,\n",
       "         967.]),\n",
       " array([1.00044777, 1.90030055, 2.80015332, 3.7000061 , 4.59985887,\n",
       "        5.49971165, 6.39956442, 7.2994172 , 8.19926997, 9.09912275,\n",
       "        9.99897552]),\n",
       " <BarContainer object of 10 artists>)"
      ]
     },
     "execution_count": 134,
     "metadata": {},
     "output_type": "execute_result"
    },
    {
     "data": {
      "image/png": "[encoded data removed]",
      "text/plain": [
       "<Figure size 432x288 with 1 Axes>"
      ]
     },
     "metadata": {
      "needs_background": "light"
     },
     "output_type": "display_data"
    }
   ],
   "source": [
    "plt.hist(np.random.uniform(10, 1, size=10000))"
   ]
  },
  {
   "cell_type": "code",
   "execution_count": 138,
   "id": "10f40bef",
   "metadata": {},
   "outputs": [
    {
     "data": {
      "image/png": "[encoded data removed]",
      "text/plain": [
       "<Figure size 432x288 with 1 Axes>"
      ]
     },
     "metadata": {
      "needs_background": "light"
     },
     "output_type": "display_data"
    }
   ],
   "source": [
    "plt.hist(np.random.normal(10, 1, size=1000))\n",
    "plt.show()"
   ]
  },
  {
   "cell_type": "code",
   "execution_count": 137,
   "id": "4e1570a8",
   "metadata": {},
   "outputs": [
    {
     "data": {
      "image/png": "[encoded data removed]",
      "text/plain": [
       "<Figure size 432x288 with 1 Axes>"
      ]
     },
     "metadata": {
      "needs_background": "light"
     },
     "output_type": "display_data"
    }
   ],
   "source": [
    "plt.hist(np.random.pareto(10, size=100000))\n",
    "plt.show()"
   ]
  },
  {
   "cell_type": "code",
   "execution_count": null,
   "id": "bfcea785",
   "metadata": {},
   "outputs": [],
   "source": []
  },
  {
   "cell_type": "code",
   "execution_count": 143,
   "id": "2d934960",
   "metadata": {},
   "outputs": [
    {
     "data": {
      "image/png": "[encoded data removed]",
      "text/plain": [
       "<Figure size 432x288 with 1 Axes>"
      ]
     },
     "metadata": {
      "needs_background": "light"
     },
     "output_type": "display_data"
    }
   ],
   "source": [
    "t = np.arange(0, 50, 0.1)\n",
    "noise = np.random.normal(0, 0.1, len(t))\n",
    "y = np.sin(t) + noise\n",
    "\n",
    "plt.plot(t, y)\n",
    "plt.show()"
   ]
  },
  {
   "cell_type": "code",
   "execution_count": null,
   "id": "95e26a5e",
   "metadata": {},
   "outputs": [],
   "source": []
  },
  {
   "cell_type": "code",
   "execution_count": null,
   "id": "fe182459",
   "metadata": {},
   "outputs": [],
   "source": []
  },
  {
   "cell_type": "code",
   "execution_count": null,
   "id": "6d590944",
   "metadata": {},
   "outputs": [],
   "source": []
  },
  {
   "cell_type": "code",
   "execution_count": 5,
   "id": "a476008a",
   "metadata": {},
   "outputs": [
    {
     "data": {
      "text/plain": [
       "0.26010170487854806"
      ]
     },
     "execution_count": 5,
     "metadata": {},
     "output_type": "execute_result"
    }
   ],
   "source": [
    "np.random.normal(0, 1) # Gaussian probability"
   ]
  },
  {
   "cell_type": "code",
   "execution_count": 20,
   "id": "e29b9146",
   "metadata": {},
   "outputs": [
    {
     "data": {
      "image/png": "[encoded data removed]",
      "text/plain": [
       "<Figure size 432x288 with 1 Axes>"
      ]
     },
     "metadata": {
      "needs_background": "light"
     },
     "output_type": "display_data"
    }
   ],
   "source": [
    "h1 = np.random.normal(170, 10, 10**6)\n",
    "plt.hist(h1)\n",
    "plt.show()"
   ]
  },
  {
   "cell_type": "code",
   "execution_count": 21,
   "id": "eb2be90f",
   "metadata": {},
   "outputs": [
    {
     "data": {
      "image/png": "[encoded data removed]",
      "text/plain": [
       "<Figure size 432x288 with 1 Axes>"
      ]
     },
     "metadata": {
      "needs_background": "light"
     },
     "output_type": "display_data"
    }
   ],
   "source": [
    "h2= np.random.uniform(0, 1, 10**6)  # same probability for each number\n",
    "plt.hist(h2)\n",
    "plt.show()"
   ]
  },
  {
   "cell_type": "code",
   "execution_count": 41,
   "id": "1fd74c85",
   "metadata": {},
   "outputs": [
    {
     "data": {
      "text/plain": [
       "1"
      ]
     },
     "execution_count": 41,
     "metadata": {},
     "output_type": "execute_result"
    }
   ],
   "source": [
    "np.random.binomial(1, 0.5)\n",
    "# it's like a coin toss. by puting n=1 means we have 0 and 1 states and the probability is 0,5"
   ]
  },
  {
   "cell_type": "code",
   "execution_count": 52,
   "id": "c8cc11ee",
   "metadata": {},
   "outputs": [
    {
     "data": {
      "text/plain": [
       "2"
      ]
     },
     "execution_count": 52,
     "metadata": {},
     "output_type": "execute_result"
    }
   ],
   "source": [
    "np.random.binomial(3, 0.5)"
   ]
  },
  {
   "cell_type": "code",
   "execution_count": 66,
   "id": "5f7b3d91",
   "metadata": {},
   "outputs": [
    {
     "data": {
      "text/plain": [
       "array([1, 0, 0, 1, 0, 0, 1, 1, 0, 1])"
      ]
     },
     "execution_count": 66,
     "metadata": {},
     "output_type": "execute_result"
    }
   ],
   "source": [
    "np.random.seed(100)  # it will be used to fix the result. if you run this cell over and over, the same result for coin will come out. unless you change the seed number\n",
    "\n",
    "coin = np.random.binomial(1, 0.5, 10)\n",
    "coin"
   ]
  },
  {
   "cell_type": "code",
   "execution_count": 67,
   "id": "e6af01a7",
   "metadata": {},
   "outputs": [
    {
     "data": {
      "text/plain": [
       "array(['e', 'd', 'e'], dtype='<U1')"
      ]
     },
     "execution_count": 67,
     "metadata": {},
     "output_type": "execute_result"
    }
   ],
   "source": [
    "np.random.choice(['a', 'b', 'c', 'd', 'e', 'f'], 3)"
   ]
  },
  {
   "cell_type": "code",
   "execution_count": 69,
   "id": "d5a1e654",
   "metadata": {},
   "outputs": [
    {
     "data": {
      "text/plain": [
       "array(['f', 'b', 'e'], dtype='<U1')"
      ]
     },
     "execution_count": 69,
     "metadata": {},
     "output_type": "execute_result"
    }
   ],
   "source": [
    "np.random.choice(['a', 'b', 'c', 'd', 'e', 'f'], 3, replace=False)  # no repeat"
   ]
  },
  {
   "cell_type": "code",
   "execution_count": 77,
   "id": "150a96b4",
   "metadata": {},
   "outputs": [
    {
     "data": {
      "text/plain": [
       "array(['f', 'a', 'b', 'a', 'b', 'c', 'a', 'b', 'a', 'a'], dtype='<U1')"
      ]
     },
     "execution_count": 77,
     "metadata": {},
     "output_type": "execute_result"
    }
   ],
   "source": [
    "np.random.choice(['a', 'b', 'c', 'd', 'e', 'f'], 10, replace=True, p=[0.5, 0.1, 0.1, 0.1, 0.1, 0.1])\n",
    "# we can give the probbility of each element separately"
   ]
  },
  {
   "cell_type": "code",
   "execution_count": 79,
   "id": "4cc2d568",
   "metadata": {},
   "outputs": [
    {
     "data": {
      "text/plain": [
       "48"
      ]
     },
     "execution_count": 79,
     "metadata": {},
     "output_type": "execute_result"
    }
   ],
   "source": [
    "np.random.randint(0, 100)  # same probability in a range"
   ]
  },
  {
   "cell_type": "code",
   "execution_count": 90,
   "id": "de304916",
   "metadata": {},
   "outputs": [
    {
     "data": {
      "image/png": "[encoded data removed]",
      "text/plain": [
       "<Figure size 432x288 with 1 Axes>"
      ]
     },
     "metadata": {
      "needs_background": "light"
     },
     "output_type": "display_data"
    }
   ],
   "source": [
    "h3 = np.random.pareto(3, 10**6)  # pareto distrubution function\n",
    "plt.hist(h3)\n",
    "plt.show()"
   ]
  },
  {
   "cell_type": "code",
   "execution_count": 91,
   "id": "6c722e5b",
   "metadata": {},
   "outputs": [
    {
     "data": {
      "image/png": "[encoded data removed]",
      "text/plain": [
       "<Figure size 432x288 with 1 Axes>"
      ]
     },
     "metadata": {
      "needs_background": "light"
     },
     "output_type": "display_data"
    }
   ],
   "source": [
    "plt.plot(h3, '.')  # we see this patern and distribution in nature a lot\n",
    "plt.show()"
   ]
  },
  {
   "cell_type": "code",
   "execution_count": null,
   "id": "3a4e9a7a",
   "metadata": {},
   "outputs": [],
   "source": []
  }
 ],
 "metadata": {
  "kernelspec": {
   "display_name": "Python 3",
   "language": "python",
   "name": "python3"
  },
  "language_info": {
   "codemirror_mode": {
    "name": "ipython",
    "version": 3
   },
   "file_extension": ".py",
   "mimetype": "text/x-python",
   "name": "python",
   "nbconvert_exporter": "python",
   "pygments_lexer": "ipython3",
   "version": "3.8.8"
  }
 },
 "nbformat": 4,
 "nbformat_minor": 5
}
